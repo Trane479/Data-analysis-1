{
 "cells": [
  {
   "cell_type": "code",
   "execution_count": 2,
   "metadata": {},
   "outputs": [],
   "source": [
    "import pandas as pd"
   ]
  },
  {
   "cell_type": "code",
   "execution_count": 72,
   "metadata": {},
   "outputs": [
    {
     "data": {
      "text/html": [
       "<div>\n",
       "<style scoped>\n",
       "    .dataframe tbody tr th:only-of-type {\n",
       "        vertical-align: middle;\n",
       "    }\n",
       "\n",
       "    .dataframe tbody tr th {\n",
       "        vertical-align: top;\n",
       "    }\n",
       "\n",
       "    .dataframe thead th {\n",
       "        text-align: right;\n",
       "    }\n",
       "</style>\n",
       "<table border=\"1\" class=\"dataframe\">\n",
       "  <thead>\n",
       "    <tr style=\"text-align: right;\">\n",
       "      <th></th>\n",
       "      <th>Name</th>\n",
       "      <th>Gender</th>\n",
       "      <th>Count</th>\n",
       "      <th>year</th>\n",
       "    </tr>\n",
       "  </thead>\n",
       "  <tbody>\n",
       "    <tr>\n",
       "      <th>0</th>\n",
       "      <td>Mary</td>\n",
       "      <td>F</td>\n",
       "      <td>7065</td>\n",
       "      <td>1880</td>\n",
       "    </tr>\n",
       "    <tr>\n",
       "      <th>1</th>\n",
       "      <td>Anna</td>\n",
       "      <td>F</td>\n",
       "      <td>2604</td>\n",
       "      <td>1880</td>\n",
       "    </tr>\n",
       "    <tr>\n",
       "      <th>2</th>\n",
       "      <td>Emma</td>\n",
       "      <td>F</td>\n",
       "      <td>2003</td>\n",
       "      <td>1880</td>\n",
       "    </tr>\n",
       "    <tr>\n",
       "      <th>3</th>\n",
       "      <td>Elizabeth</td>\n",
       "      <td>F</td>\n",
       "      <td>1939</td>\n",
       "      <td>1880</td>\n",
       "    </tr>\n",
       "    <tr>\n",
       "      <th>4</th>\n",
       "      <td>Minnie</td>\n",
       "      <td>F</td>\n",
       "      <td>1746</td>\n",
       "      <td>1880</td>\n",
       "    </tr>\n",
       "    <tr>\n",
       "      <th>...</th>\n",
       "      <td>...</td>\n",
       "      <td>...</td>\n",
       "      <td>...</td>\n",
       "      <td>...</td>\n",
       "    </tr>\n",
       "    <tr>\n",
       "      <th>1892418</th>\n",
       "      <td>Zolton</td>\n",
       "      <td>M</td>\n",
       "      <td>5</td>\n",
       "      <td>2016</td>\n",
       "    </tr>\n",
       "    <tr>\n",
       "      <th>1892419</th>\n",
       "      <td>Zurich</td>\n",
       "      <td>M</td>\n",
       "      <td>5</td>\n",
       "      <td>2016</td>\n",
       "    </tr>\n",
       "    <tr>\n",
       "      <th>1892420</th>\n",
       "      <td>Zyahir</td>\n",
       "      <td>M</td>\n",
       "      <td>5</td>\n",
       "      <td>2016</td>\n",
       "    </tr>\n",
       "    <tr>\n",
       "      <th>1892421</th>\n",
       "      <td>Zyel</td>\n",
       "      <td>M</td>\n",
       "      <td>5</td>\n",
       "      <td>2016</td>\n",
       "    </tr>\n",
       "    <tr>\n",
       "      <th>1892422</th>\n",
       "      <td>Zylyn</td>\n",
       "      <td>M</td>\n",
       "      <td>5</td>\n",
       "      <td>2016</td>\n",
       "    </tr>\n",
       "  </tbody>\n",
       "</table>\n",
       "<p>1892423 rows × 4 columns</p>\n",
       "</div>"
      ],
      "text/plain": [
       "              Name Gender  Count  year\n",
       "0             Mary      F   7065  1880\n",
       "1             Anna      F   2604  1880\n",
       "2             Emma      F   2003  1880\n",
       "3        Elizabeth      F   1939  1880\n",
       "4           Minnie      F   1746  1880\n",
       "...            ...    ...    ...   ...\n",
       "1892418     Zolton      M      5  2016\n",
       "1892419     Zurich      M      5  2016\n",
       "1892420     Zyahir      M      5  2016\n",
       "1892421       Zyel      M      5  2016\n",
       "1892422      Zylyn      M      5  2016\n",
       "\n",
       "[1892423 rows x 4 columns]"
      ]
     },
     "execution_count": 72,
     "metadata": {},
     "output_type": "execute_result"
    }
   ],
   "source": [
    "import pandas as pd\n",
    "\n",
    "years = range(1880,2017)\n",
    "columns = ['Name','Gender','Count']\n",
    "df_res = pd.DataFrame()\n",
    "for year in years:\n",
    "    path = 'C:\\\\Users\\\\gsevo\\\\Desktop\\\\names\\\\yob%d.txt' % year\n",
    "    df = pd.read_csv(path, names=columns)\n",
    "\n",
    "    df['year'] = year\n",
    "    df_res = df_res.append(df,ignore_index=True)\n",
    "df_res\n"
   ]
  },
  {
   "cell_type": "code",
   "execution_count": 5,
   "metadata": {},
   "outputs": [],
   "source": [
    "def show_top_name_by_year(year):\n",
    "    years = year\n",
    "    \n",
    "    columns = ['Name','Gender','Count']\n",
    "    df_res = pd.DataFrame()\n",
    "    for year in years:\n",
    "        path = 'C:\\\\Users\\\\gsevo\\\\Desktop\\\\names\\\\yob'+str(year) +'.txt' \n",
    "        df = pd.read_csv(path, names=columns)\n",
    "\n",
    "        \n",
    "        df_res = df_res.append(df,ignore_index=True)\n",
    "    df_res = df_res.groupby(['Name']).sum()\n",
    "    df_res = df_res.sort_values('Count', ascending=False)\n",
    "    # print(df_res['Count'])\n",
    "    print(df_res.index[0:3])\n",
    "\n",
    "    df_res\n",
    "        "
   ]
  },
  {
   "cell_type": "code",
   "execution_count": 7,
   "metadata": {},
   "outputs": [
    {
     "name": "stdout",
     "output_type": "stream",
     "text": [
      "Index(['Mary', 'John', 'William'], dtype='object', name='Name')\n"
     ]
    }
   ],
   "source": [
    "show_top_name_by_year([1900])\n"
   ]
  },
  {
   "cell_type": "code",
   "execution_count": 42,
   "metadata": {},
   "outputs": [
    {
     "name": "stdout",
     "output_type": "stream",
     "text": [
      "[[1815295], [1963202]]\n",
      "M:[299798, 1713065, 1815295]\n",
      "F:[150480, 1790437, 1963202]\n"
     ]
    }
   ],
   "source": [
    "def show_dynamics(year):\n",
    "    years = year\n",
    "    male = []\n",
    "    female = []\n",
    "    columns = ['Name','Gender','Count']\n",
    "    df_res = pd.DataFrame()\n",
    "    for year in years:\n",
    "        path = 'C:\\\\Users\\\\gsevo\\\\Desktop\\\\names\\\\yob'+str(year) +'.txt' \n",
    "        df_res = pd.read_csv(path, names=columns)\n",
    "      \n",
    "        df_res = df_res.groupby(['Gender']).sum()\n",
    "        df_res = df_res.values.tolist()\n",
    "        male.append(df_res[0][0])\n",
    "        female.append(df_res[1][0])\n",
    "    # print(df_res)\n",
    "    print(f'M:{male}')\n",
    "    print(f'F:{female}')\n",
    "    \n",
    "show_dynamics([1900, 1950 , 2000])"
   ]
  },
  {
   "cell_type": "code",
   "execution_count": null,
   "metadata": {},
   "outputs": [],
   "source": []
  }
 ],
 "metadata": {
  "kernelspec": {
   "display_name": "Python 3",
   "language": "python",
   "name": "python3"
  },
  "language_info": {
   "codemirror_mode": {
    "name": "ipython",
    "version": 3
   },
   "file_extension": ".py",
   "mimetype": "text/x-python",
   "name": "python",
   "nbconvert_exporter": "python",
   "pygments_lexer": "ipython3",
   "version": "3.7.6"
  }
 },
 "nbformat": 4,
 "nbformat_minor": 4
}
